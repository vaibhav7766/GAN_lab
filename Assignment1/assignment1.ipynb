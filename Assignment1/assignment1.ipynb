{
 "cells": [
  {
   "cell_type": "markdown",
   "metadata": {},
   "source": [
    "<h2 align=\"center\">Create a Simple GAN in PyTorch to Generate Synthetic Sine Wave Data</h2>\n",
    "<h3>Vaibhav Sharma <br> 22070126125 <br> AIML-B2</h3>\n",
    "\n",
    "<h3>Introduction</h3>\n",
    "<p>This project demonstrates the implementation of a simple Generative Adversarial Network (GAN) in PyTorch to generate synthetic sine wave data. The GAN consists of a generator and a discriminator. The generator learns to produce synthetic sine waves that resemble real sine wave data, while the discriminator learns to distinguish between real and generated data.</p>\n"
   ]
  },
  {
   "cell_type": "code",
   "execution_count": 12,
   "metadata": {},
   "outputs": [],
   "source": [
    "import torch\n",
    "import torch.nn as nn\n",
    "import numpy as np\n",
    "import matplotlib.pyplot as plt"
   ]
  },
  {
   "cell_type": "markdown",
   "metadata": {},
   "source": [
    "<h3>1. Define the Generator Class</h3>\n",
    "    <p>The generator is a neural network that takes random noise as input and generates a sine wave as output. It uses two fully connected layers with a ReLU activation function to model the sine wave data.</p>\n"
   ]
  },
  {
   "cell_type": "code",
   "execution_count": 13,
   "metadata": {},
   "outputs": [],
   "source": [
    "class Generator(nn.Module):\n",
    "    def __init__(self, input_size, hidden_size, output_size):\n",
    "        super(Generator, self).__init__()\n",
    "        self.model = nn.Sequential(\n",
    "            nn.Linear(input_size, hidden_size),\n",
    "            nn.ReLU(),\n",
    "            nn.Linear(hidden_size, output_size)\n",
    "        )\n",
    "\n",
    "    def forward(self, x):\n",
    "        return self.model(x)"
   ]
  },
  {
   "cell_type": "markdown",
   "metadata": {},
   "source": [
    "<h3>2. Define the Discriminator Class</h3>\n",
    "    <p>The discriminator is a neural network that takes sine wave data as input and predicts whether it is real or generated. It also uses two fully connected layers and outputs a single value with a sigmoid activation.</p>\n"
   ]
  },
  {
   "cell_type": "code",
   "execution_count": 14,
   "metadata": {},
   "outputs": [],
   "source": [
    "class Discriminator(nn.Module):\n",
    "    def __init__(self, input_size, hidden_size):\n",
    "        super(Discriminator, self).__init__()\n",
    "        self.model = nn.Sequential(\n",
    "            nn.Linear(input_size, hidden_size),\n",
    "            nn.ReLU(),\n",
    "            nn.Linear(hidden_size, 1),\n",
    "            nn.Sigmoid()\n",
    "        )\n",
    "\n",
    "    def forward(self, x):\n",
    "        return self.model(x)"
   ]
  },
  {
   "cell_type": "markdown",
   "metadata": {},
   "source": [
    "<h3>3. Hyperparameters</h3>\n",
    "    <p>Key hyperparameters for the GAN include:</p>\n",
    "    <ul>\n",
    "        <li><strong>Latent Vector Size:</strong> Defines the dimensionality of the input noise vector fed to the generator. A larger size provides more capacity for the generator to capture complex patterns.</li>\n",
    "        <li><strong>Hidden Layer Size:</strong> Determines the number of neurons in the hidden layers of both the generator and discriminator. Larger hidden layers allow the network to learn more complex mappings.</li>\n",
    "        <li><strong>Learning Rate:</strong> Specifies the step size for the optimizer during weight updates. A smaller learning rate ensures stable convergence, while a larger one speeds up training but may lead to instability.</li>\n",
    "        <li><strong>Number of Epochs:</strong> Represents the number of full passes through the training dataset. More epochs typically lead to better performance, though overfitting can occur with excessive training.</li>\n",
    "    </ul>"
   ]
  },
  {
   "cell_type": "code",
   "execution_count": 15,
   "metadata": {},
   "outputs": [],
   "source": [
    "latent_size = 5\n",
    "hidden_size = 128\n",
    "sine_wave_size = 50\n",
    "num_epochs = 10000\n",
    "batch_size = 32\n",
    "learning_rate = 0.001"
   ]
  },
  {
   "cell_type": "markdown",
   "metadata": {},
   "source": [
    "<h3>4. Generate Real Sine Wave Data</h3>\n",
    "    <p>Real sine wave data is generated using the <code>generate_sine_wave</code> function. It creates sine waves with random phase shifts for variability.</p>\n",
    "    <p>The equation for generating a sine wave with a phase shift is:</p>\n",
    "    <p><strong>y(t) = sin(t + φ)</strong></p>\n",
    "    <p>Where:</p>\n",
    "    <ul>\n",
    "        <li><strong>y(t):</strong> The sine wave value at time <em>t</em>.</li>\n",
    "        <li><strong>t:</strong> The time step.</li>\n",
    "        <li><strong>φ:</strong> The random phase shift applied to introduce variability.</li>\n",
    "    </ul>"
   ]
  },
  {
   "cell_type": "code",
   "execution_count": 16,
   "metadata": {},
   "outputs": [],
   "source": [
    "def generate_sine_wave(num_samples, num_points):\n",
    "    x = np.linspace(0, 2 * np.pi, num_points)\n",
    "    data = [np.sin(x + np.random.uniform(0, 2 * np.pi)) for _ in range(num_samples)]\n",
    "    return np.array(data)"
   ]
  },
  {
   "cell_type": "code",
   "execution_count": 17,
   "metadata": {},
   "outputs": [],
   "source": [
    "real_data = generate_sine_wave(1000, sine_wave_size)\n",
    "real_data = torch.tensor(real_data, dtype=torch.float32)\n",
    "\n",
    "generator = Generator(latent_size, hidden_size, sine_wave_size)\n",
    "discriminator = Discriminator(sine_wave_size, hidden_size)"
   ]
  },
  {
   "cell_type": "markdown",
   "metadata": {},
   "source": [
    "<h3>5. Training the GAN</h3>\n",
    "    <p>The training process involves alternating updates to the generator and discriminator using the binary cross-entropy loss function. The discriminator learns to classify real and fake data, while the generator learns to produce data that the discriminator cannot distinguish from real data.</p>\n"
   ]
  },
  {
   "cell_type": "code",
   "execution_count": 18,
   "metadata": {},
   "outputs": [],
   "source": [
    "criterion = nn.BCELoss()\n",
    "optimizer_g = torch.optim.Adam(generator.parameters(), lr=learning_rate)\n",
    "optimizer_d = torch.optim.Adam(discriminator.parameters(), lr=learning_rate)"
   ]
  },
  {
   "cell_type": "code",
   "execution_count": null,
   "metadata": {},
   "outputs": [
    {
     "name": "stdout",
     "output_type": "stream",
     "text": [
      "Epoch [100/10000], D Loss: 1.0754, G Loss: 0.9724\n",
      "Epoch [200/10000], D Loss: 1.0293, G Loss: 1.5162\n",
      "Epoch [300/10000], D Loss: 0.7920, G Loss: 1.5417\n",
      "Epoch [400/10000], D Loss: 1.0672, G Loss: 1.2702\n",
      "Epoch [500/10000], D Loss: 0.9248, G Loss: 1.1595\n",
      "Epoch [600/10000], D Loss: 0.7957, G Loss: 1.5295\n",
      "Epoch [700/10000], D Loss: 0.9506, G Loss: 1.1904\n",
      "Epoch [800/10000], D Loss: 1.0752, G Loss: 1.1253\n",
      "Epoch [900/10000], D Loss: 1.2911, G Loss: 1.0101\n",
      "Epoch [1000/10000], D Loss: 1.1119, G Loss: 1.3475\n",
      "Epoch [1100/10000], D Loss: 0.8982, G Loss: 1.0889\n",
      "Epoch [1200/10000], D Loss: 0.9456, G Loss: 1.2624\n",
      "Epoch [1300/10000], D Loss: 1.0658, G Loss: 0.9858\n",
      "Epoch [1400/10000], D Loss: 1.3878, G Loss: 1.3239\n",
      "Epoch [1500/10000], D Loss: 0.9431, G Loss: 1.4913\n",
      "Epoch [1600/10000], D Loss: 1.0103, G Loss: 1.1554\n",
      "Epoch [1700/10000], D Loss: 1.1105, G Loss: 1.2137\n",
      "Epoch [1800/10000], D Loss: 1.0450, G Loss: 1.0425\n",
      "Epoch [1900/10000], D Loss: 1.0601, G Loss: 1.2255\n",
      "Epoch [2000/10000], D Loss: 0.8865, G Loss: 1.3274\n",
      "Epoch [2100/10000], D Loss: 1.3312, G Loss: 1.0557\n",
      "Epoch [2200/10000], D Loss: 1.1019, G Loss: 1.2371\n",
      "Epoch [2300/10000], D Loss: 1.0311, G Loss: 1.0424\n",
      "Epoch [2400/10000], D Loss: 1.0897, G Loss: 1.2120\n",
      "Epoch [2500/10000], D Loss: 1.0612, G Loss: 1.0203\n",
      "Epoch [2600/10000], D Loss: 1.1034, G Loss: 0.9646\n",
      "Epoch [2700/10000], D Loss: 1.0872, G Loss: 0.9478\n",
      "Epoch [2800/10000], D Loss: 1.1901, G Loss: 1.5184\n",
      "Epoch [2900/10000], D Loss: 0.7593, G Loss: 1.5663\n",
      "Epoch [3000/10000], D Loss: 0.9771, G Loss: 1.0516\n",
      "Epoch [3100/10000], D Loss: 0.8800, G Loss: 1.1217\n",
      "Epoch [3200/10000], D Loss: 1.2667, G Loss: 1.0439\n",
      "Epoch [3300/10000], D Loss: 1.1388, G Loss: 1.2217\n",
      "Epoch [3400/10000], D Loss: 0.8689, G Loss: 1.2316\n",
      "Epoch [3500/10000], D Loss: 1.1005, G Loss: 1.0450\n",
      "Epoch [3600/10000], D Loss: 0.8851, G Loss: 1.1474\n",
      "Epoch [3700/10000], D Loss: 0.9687, G Loss: 1.2236\n",
      "Epoch [3800/10000], D Loss: 1.0221, G Loss: 1.2751\n",
      "Epoch [3900/10000], D Loss: 0.7655, G Loss: 1.6552\n",
      "Epoch [4000/10000], D Loss: 0.9114, G Loss: 1.3489\n",
      "Epoch [4100/10000], D Loss: 0.8093, G Loss: 1.4832\n",
      "Epoch [4200/10000], D Loss: 0.9017, G Loss: 1.6461\n",
      "Epoch [4300/10000], D Loss: 1.1368, G Loss: 1.4254\n",
      "Epoch [4400/10000], D Loss: 0.7640, G Loss: 1.3640\n",
      "Epoch [4500/10000], D Loss: 0.9081, G Loss: 1.1365\n",
      "Epoch [4600/10000], D Loss: 0.8325, G Loss: 1.4951\n",
      "Epoch [4700/10000], D Loss: 1.3194, G Loss: 1.3426\n",
      "Epoch [4800/10000], D Loss: 0.7294, G Loss: 1.6597\n",
      "Epoch [4900/10000], D Loss: 0.9060, G Loss: 1.2702\n",
      "Epoch [5000/10000], D Loss: 0.9522, G Loss: 1.2770\n",
      "Epoch [5100/10000], D Loss: 0.6710, G Loss: 1.9019\n",
      "Epoch [5200/10000], D Loss: 1.0030, G Loss: 1.2648\n",
      "Epoch [5300/10000], D Loss: 1.0031, G Loss: 1.5637\n",
      "Epoch [5400/10000], D Loss: 0.9057, G Loss: 1.5251\n",
      "Epoch [5500/10000], D Loss: 0.7928, G Loss: 1.2653\n",
      "Epoch [5600/10000], D Loss: 1.4863, G Loss: 1.2694\n",
      "Epoch [5700/10000], D Loss: 1.1207, G Loss: 1.1280\n",
      "Epoch [5800/10000], D Loss: 0.9000, G Loss: 1.4596\n",
      "Epoch [5900/10000], D Loss: 0.6682, G Loss: 1.4087\n",
      "Epoch [6000/10000], D Loss: 1.0181, G Loss: 1.4321\n",
      "Epoch [6100/10000], D Loss: 1.1506, G Loss: 1.2290\n",
      "Epoch [6200/10000], D Loss: 1.1179, G Loss: 1.5862\n",
      "Epoch [6300/10000], D Loss: 0.6183, G Loss: 1.5904\n",
      "Epoch [6400/10000], D Loss: 0.5601, G Loss: 1.7519\n",
      "Epoch [6500/10000], D Loss: 0.7944, G Loss: 1.2981\n",
      "Epoch [6600/10000], D Loss: 0.8122, G Loss: 1.7322\n",
      "Epoch [6700/10000], D Loss: 0.9721, G Loss: 1.3606\n",
      "Epoch [6800/10000], D Loss: 0.6765, G Loss: 1.4080\n",
      "Epoch [6900/10000], D Loss: 1.0012, G Loss: 1.1980\n",
      "Epoch [7000/10000], D Loss: 0.6616, G Loss: 1.5356\n",
      "Epoch [7100/10000], D Loss: 0.8214, G Loss: 2.1320\n",
      "Epoch [7200/10000], D Loss: 0.8968, G Loss: 1.8138\n",
      "Epoch [7300/10000], D Loss: 0.6857, G Loss: 1.4156\n",
      "Epoch [7400/10000], D Loss: 0.9097, G Loss: 1.5482\n",
      "Epoch [7500/10000], D Loss: 0.7966, G Loss: 1.6562\n",
      "Epoch [7600/10000], D Loss: 0.6432, G Loss: 1.4777\n",
      "Epoch [7700/10000], D Loss: 0.8628, G Loss: 1.6061\n",
      "Epoch [7800/10000], D Loss: 0.8706, G Loss: 1.9362\n",
      "Epoch [7900/10000], D Loss: 0.8659, G Loss: 1.8667\n",
      "Epoch [8000/10000], D Loss: 0.9056, G Loss: 1.0830\n",
      "Epoch [8100/10000], D Loss: 0.9414, G Loss: 1.7575\n",
      "Epoch [8200/10000], D Loss: 1.1036, G Loss: 1.2029\n",
      "Epoch [8300/10000], D Loss: 0.4597, G Loss: 1.9151\n",
      "Epoch [8400/10000], D Loss: 0.7637, G Loss: 1.5618\n",
      "Epoch [8500/10000], D Loss: 1.0479, G Loss: 1.7759\n",
      "Epoch [8600/10000], D Loss: 0.6416, G Loss: 1.5041\n",
      "Epoch [8700/10000], D Loss: 0.8893, G Loss: 1.2900\n",
      "Epoch [8800/10000], D Loss: 0.8206, G Loss: 1.5006\n",
      "Epoch [8900/10000], D Loss: 0.7225, G Loss: 1.7395\n",
      "Epoch [9000/10000], D Loss: 0.8919, G Loss: 1.3530\n",
      "Epoch [9100/10000], D Loss: 0.8692, G Loss: 1.4820\n",
      "Epoch [9200/10000], D Loss: 1.2099, G Loss: 1.3992\n",
      "Epoch [9300/10000], D Loss: 0.7942, G Loss: 1.5255\n",
      "Epoch [9400/10000], D Loss: 1.0621, G Loss: 1.5951\n",
      "Epoch [9500/10000], D Loss: 0.6735, G Loss: 1.7168\n",
      "Epoch [9600/10000], D Loss: 0.5714, G Loss: 1.7526\n",
      "Epoch [9700/10000], D Loss: 0.8962, G Loss: 1.6831\n",
      "Epoch [9800/10000], D Loss: 0.7873, G Loss: 1.8551\n",
      "Epoch [9900/10000], D Loss: 0.8517, G Loss: 1.3136\n",
      "Epoch [10000/10000], D Loss: 1.0194, G Loss: 1.4414\n"
     ]
    }
   ],
   "source": [
    "for epoch in range(num_epochs):\n",
    "    for _ in range(batch_size):\n",
    "        real_samples = real_data[torch.randint(0, real_data.size(0), (batch_size,))]\n",
    "        real_labels = torch.ones((batch_size, 1))\n",
    "        fake_samples = generator(torch.randn(batch_size, latent_size))\n",
    "        fake_labels = torch.zeros((batch_size, 1))\n",
    "\n",
    "        optimizer_d.zero_grad()\n",
    "\n",
    "        real_loss = criterion(discriminator(real_samples), real_labels)\n",
    "        fake_loss = criterion(discriminator(fake_samples.detach()), fake_labels)\n",
    "        d_loss = real_loss + fake_loss\n",
    "\n",
    "        d_loss.backward()\n",
    "        optimizer_d.step()\n",
    "\n",
    "        optimizer_g.zero_grad()\n",
    "        fake_labels = torch.ones((batch_size, 1))\n",
    "        g_loss = criterion(discriminator(fake_samples), fake_labels)\n",
    "\n",
    "        g_loss.backward()\n",
    "        optimizer_g.step()\n",
    "\n",
    "    if (epoch + 1) % 100 == 0:\n",
    "        print(f\"Epoch [{epoch + 1}/{num_epochs}], D Loss: {d_loss.item():.4f}, G Loss: {g_loss.item():.4f}\")"
   ]
  },
  {
   "cell_type": "markdown",
   "metadata": {},
   "source": [
    "<h3>6. Generate and Plot Synthetic Sine Wave Data</h3>\n",
    "    <p>After training, the generator produces synthetic sine wave data. These waves are plotted to visualize the results.</p>\n"
   ]
  },
  {
   "cell_type": "code",
   "execution_count": 20,
   "metadata": {},
   "outputs": [],
   "source": [
    "with torch.no_grad():\n",
    "    latent_vectors = torch.randn(10, latent_size)\n",
    "    generated_data = generator(latent_vectors).numpy()"
   ]
  },
  {
   "cell_type": "code",
   "execution_count": null,
   "metadata": {},
   "outputs": [
    {
     "data": {
      "image/png": "[encoded data removed]",
      "text/plain": [
       "<Figure size 1000x600 with 1 Axes>"
      ]
     },
     "metadata": {},
     "output_type": "display_data"
    }
   ],
   "source": [
    "plt.figure(figsize=(10, 6))\n",
    "\n",
    "real_wave = real_data[0].numpy()\n",
    "fake_wave = generated_data[0]\n",
    "\n",
    "plt.plot(real_wave, label=\"Real Sine Wave\", color='blue')\n",
    "\n",
    "plt.plot(fake_wave, label=\"Generated Sine Wave\", linestyle='--', color='red')\n",
    "\n",
    "plt.title(\"Real vs Generated Sine Wave\")\n",
    "plt.xlabel(\"Time Steps\")\n",
    "plt.ylabel(\"Amplitude\")\n",
    "plt.legend()\n",
    "\n",
    "plt.show()"
   ]
  },
  {
   "cell_type": "markdown",
   "metadata": {},
   "source": [
    "<h2>Key Observations</h2>\n",
    "    <ul>\n",
    "        <li><strong>General Similarity:</strong> The generated sine wave (red dashed line) closely follows the overall shape of the real sine wave (blue solid line), replicating periodicity, amplitude, and general structure.</li>\n",
    "        <li><strong>Amplitude Consistency:</strong> Peaks and troughs of the generated wave align well with the real wave, demonstrating the generator’s effectiveness in capturing the range of values (amplitude).</li>\n",
    "        <li><strong>Phase Alignment:</strong> The generated wave matches the phase of the real wave, showing the generator has learned the timing of oscillations, though slight deviations remain.</li>\n",
    "        <li><strong>Noise and Smoothness:</strong> The generated wave exhibits minor fluctuations compared to the smooth real sine wave, indicating small artifacts from the GAN’s learning process.</li>\n",
    "        <li><strong>Deviation Around Transitions:</strong> Differences are more noticeable at transition points where the sine wave changes direction, suggesting the generator struggles with modeling sharp changes in curvature.</li>\n",
    "    </ul>\n",
    "\n",
    "<h2>Insights</h2>\n",
    "    <ul>\n",
    "        <li><strong>Success in Learning:</strong> The generator has successfully learned the periodic nature of sine waves, showcasing the GAN’s ability to approximate continuous, smooth functions.</li>\n",
    "        <li><strong>Room for Improvement:</strong> Deviations at critical transition points highlight the need for further refinement to improve the generator’s accuracy in modeling sharp curvature changes.</li>\n",
    "        <li><strong>Practical Applications:</strong> This GAN framework can be extended to generate more complex time-series data like stock prices, weather patterns, or audio signals, provided the generator is fine-tuned for better precision.</li>\n",
    "    </ul>\n"
   ]
  },
  {
   "cell_type": "markdown",
   "metadata": {},
   "source": [
    "<h3>Conclusion</h3>\n",
    "    <p>This implementation of a simple GAN demonstrates its ability to learn and generate synthetic sine wave data. It highlights the effectiveness of adversarial training in generating realistic data.</p>\n"
   ]
  }
 ],
 "metadata": {
  "kernelspec": {
   "display_name": "Python 3",
   "language": "python",
   "name": "python3"
  },
  "language_info": {
   "codemirror_mode": {
    "name": "ipython",
    "version": 3
   },
   "file_extension": ".py",
   "mimetype": "text/x-python",
   "name": "python",
   "nbconvert_exporter": "python",
   "pygments_lexer": "ipython3",
   "version": "3.8.10"
  }
 },
 "nbformat": 4,
 "nbformat_minor": 2
}
